{
 "cells": [
  {
   "cell_type": "markdown",
   "metadata": {},
   "source": [
    "# How to overfit your ML model?\n",
    "\n",
    "by Li Shen, Ph.D.\n",
    "\n",
    "Icahn School of Medicine at Mount Sinai\n",
    "\n",
    "Updated: 2018-05-11"
   ]
  },
  {
   "cell_type": "code",
   "execution_count": 1,
   "metadata": {},
   "outputs": [
    {
     "name": "stdout",
     "output_type": "stream",
     "text": [
      "Populating the interactive namespace from numpy and matplotlib\n"
     ]
    }
   ],
   "source": [
    "%pylab inline\n",
    "import numpy as np"
   ]
  },
  {
   "cell_type": "markdown",
   "metadata": {},
   "source": [
    "Generate a **purely** random dataset using standard Gaussian distribution. It has 100 samples and 20,000 features. 50 samples are randomly assigned label=0 and the other 50 samples are assigned label=1."
   ]
  },
  {
   "cell_type": "code",
   "execution_count": 3,
   "metadata": {},
   "outputs": [
    {
     "data": {
      "text/plain": [
       "(100, 20000)"
      ]
     },
     "execution_count": 3,
     "metadata": {},
     "output_type": "execute_result"
    }
   ],
   "source": [
    "x_train = np.random.randn(100, 20000)\n",
    "x_train.shape"
   ]
  },
  {
   "cell_type": "code",
   "execution_count": 4,
   "metadata": {},
   "outputs": [
    {
     "data": {
      "text/plain": [
       "(100,)"
      ]
     },
     "execution_count": 4,
     "metadata": {},
     "output_type": "execute_result"
    }
   ],
   "source": [
    "y_train = np.concatenate([np.repeat([0], 50), np.repeat([1], 50)])\n",
    "y_train.shape"
   ]
  },
  {
   "cell_type": "markdown",
   "metadata": {},
   "source": [
    "Perform feature selection on the **entire** data set using one-way ANOVA."
   ]
  },
  {
   "cell_type": "code",
   "execution_count": 10,
   "metadata": {},
   "outputs": [
    {
     "name": "stdout",
     "output_type": "stream",
     "text": [
      "209\n"
     ]
    }
   ],
   "source": [
    "from sklearn.feature_selection import f_classif\n",
    "f_train, p_train = f_classif(x_train, y_train)\n",
    "print((p_train < .01).sum())"
   ]
  },
  {
   "cell_type": "markdown",
   "metadata": {},
   "source": [
    "209 features passed p=0.01 cutoff, which is roughly the same as 20,000 x 0.01=200."
   ]
  },
  {
   "cell_type": "code",
   "execution_count": 12,
   "metadata": {},
   "outputs": [
    {
     "data": {
      "text/plain": [
       "(100, 209)"
      ]
     },
     "execution_count": 12,
     "metadata": {},
     "output_type": "execute_result"
    }
   ],
   "source": [
    "feature_sel_mask = (p_train < .01)\n",
    "x_train_sel = x_train[:, feature_sel_mask]\n",
    "x_train_sel.shape"
   ]
  },
  {
   "cell_type": "markdown",
   "metadata": {},
   "source": [
    "Perform 10-fold cross-validation on the train set to find the best classifier that can distinguish the two classes. I use random forest, which is considered (by some people) as a **robust** classifier that is less likely to overfit."
   ]
  },
  {
   "cell_type": "code",
   "execution_count": 18,
   "metadata": {},
   "outputs": [
    {
     "name": "stdout",
     "output_type": "stream",
     "text": [
      "Best 10-fold CV AUC score: 0.992\n"
     ]
    }
   ],
   "source": [
    "from scipy.stats import randint as sp_randint\n",
    "from sklearn.model_selection import RandomizedSearchCV\n",
    "from sklearn.ensemble import RandomForestClassifier\n",
    "\n",
    "# build a classifier\n",
    "clf = RandomForestClassifier(n_estimators=20)\n",
    "\n",
    "# specify parameters and distributions to sample from\n",
    "param_dist = {\"max_depth\": [3, None],\n",
    "              \"max_features\": sp_randint(1, 11),\n",
    "              \"min_samples_split\": sp_randint(2, 11),\n",
    "              \"min_samples_leaf\": sp_randint(1, 11),\n",
    "              \"bootstrap\": [True, False],\n",
    "              \"criterion\": [\"gini\", \"entropy\"]}\n",
    "\n",
    "# run randomized search\n",
    "n_iter_search = 100\n",
    "random_search = RandomizedSearchCV(clf, \n",
    "                                   param_distributions=param_dist,\n",
    "                                   n_iter=n_iter_search, \n",
    "                                   cv=10, \n",
    "                                   scoring='roc_auc')\n",
    "random_search.fit(x_train_sel, y_train)\n",
    "print('Best 10-fold CV AUC score:', random_search.best_score_)"
   ]
  },
  {
   "cell_type": "markdown",
   "metadata": {},
   "source": [
    "Take a closer look at the cross-validation results."
   ]
  },
  {
   "cell_type": "code",
   "execution_count": 32,
   "metadata": {},
   "outputs": [
    {
     "data": {
      "text/plain": [
       "28"
      ]
     },
     "execution_count": 32,
     "metadata": {},
     "output_type": "execute_result"
    }
   ],
   "source": [
    "auc_mean_lst = [ g.mean_validation_score for g in random_search.grid_scores_]\n",
    "auc_mean_lst = np.array(auc_mean_lst)\n",
    "np.argmax(auc_mean_lst)"
   ]
  },
  {
   "cell_type": "code",
   "execution_count": 36,
   "metadata": {},
   "outputs": [
    {
     "name": "stdout",
     "output_type": "stream",
     "text": [
      "mean CV score: 0.992\n",
      "all CV score: [1.   1.   1.   1.   1.   1.   1.   0.92 1.   1.  ]\n",
      "std CV score: 0.023999999999999987\n",
      "Random forest params:\n",
      " {'bootstrap': False, 'criterion': 'entropy', 'max_depth': None, 'max_features': 1, 'min_samples_leaf': 8, 'min_samples_split': 3}\n"
     ]
    }
   ],
   "source": [
    "best_clf_res = random_search.grid_scores_[28]\n",
    "print('mean CV score:', best_clf_res.mean_validation_score)\n",
    "print('all CV score:', best_clf_res.cv_validation_scores)\n",
    "print('std CV score:', best_clf_res.cv_validation_scores.std())\n",
    "print('Random forest params:\\n', best_clf_res.parameters)"
   ]
  },
  {
   "cell_type": "markdown",
   "metadata": {},
   "source": [
    "## Can unsupvised feature selection save the day?"
   ]
  },
  {
   "cell_type": "markdown",
   "metadata": {},
   "source": [
    "It is obvious that using supervised feature selection such as ANOVA can lead to extreme overfitting. Then what about using unsupervised feature selection? Can they totally avoid overfitting?\n",
    "\n",
    "First, I'll use a method that simply selects features with large variance."
   ]
  },
  {
   "cell_type": "code",
   "execution_count": 12,
   "metadata": {},
   "outputs": [
    {
     "data": {
      "text/plain": [
       "(100, 77)"
      ]
     },
     "execution_count": 12,
     "metadata": {},
     "output_type": "execute_result"
    }
   ],
   "source": [
    "from sklearn.feature_selection import VarianceThreshold\n",
    "selector = VarianceThreshold(threshold=1.4)\n",
    "x_train_var = selector.fit_transform(x_train)\n",
    "x_train_var.shape"
   ]
  },
  {
   "cell_type": "code",
   "execution_count": 22,
   "metadata": {},
   "outputs": [
    {
     "name": "stdout",
     "output_type": "stream",
     "text": [
      "Best 10-fold CV AUC score: 0.7040000000000001\n"
     ]
    }
   ],
   "source": [
    "from scipy.stats import randint as sp_randint\n",
    "from sklearn.model_selection import RandomizedSearchCV\n",
    "from sklearn.ensemble import RandomForestClassifier\n",
    "\n",
    "# build a classifier\n",
    "clf = RandomForestClassifier(n_estimators=20)\n",
    "\n",
    "# specify parameters and distributions to sample from\n",
    "param_dist = {\"max_depth\": [3, None],\n",
    "              \"max_features\": sp_randint(1, 11),\n",
    "              \"min_samples_split\": sp_randint(2, 11),\n",
    "              \"min_samples_leaf\": sp_randint(1, 11),\n",
    "              \"bootstrap\": [True, False],\n",
    "              \"criterion\": [\"gini\", \"entropy\"]}\n",
    "\n",
    "# run randomized search\n",
    "n_iter_search = 300\n",
    "random_search = RandomizedSearchCV(clf, \n",
    "                                   param_distributions=param_dist,\n",
    "                                   n_iter=n_iter_search, \n",
    "                                   cv=10, \n",
    "                                   scoring='roc_auc')\n",
    "random_search.fit(x_train_var, y_train)\n",
    "print('Best 10-fold CV AUC score:', random_search.best_score_)"
   ]
  },
  {
   "cell_type": "markdown",
   "metadata": {},
   "source": [
    "It looks better. The best AUC score becomes 0.7. However, it is still higher than 0.5.\n",
    "\n",
    "Let's try another method: the principal component analysis."
   ]
  },
  {
   "cell_type": "code",
   "execution_count": 37,
   "metadata": {},
   "outputs": [
    {
     "data": {
      "text/plain": [
       "(100, 20)"
      ]
     },
     "execution_count": 37,
     "metadata": {},
     "output_type": "execute_result"
    }
   ],
   "source": [
    "from sklearn.decomposition import PCA\n",
    "pca = PCA(n_components=20)\n",
    "x_train_pca = pca.fit_transform(x_train)\n",
    "x_train_pca.shape"
   ]
  },
  {
   "cell_type": "code",
   "execution_count": 38,
   "metadata": {},
   "outputs": [
    {
     "name": "stdout",
     "output_type": "stream",
     "text": [
      "Best 10-fold CV AUC score: 0.7020000000000001\n"
     ]
    }
   ],
   "source": [
    "from scipy.stats import randint as sp_randint\n",
    "from sklearn.model_selection import RandomizedSearchCV\n",
    "from sklearn.ensemble import RandomForestClassifier\n",
    "\n",
    "# build a classifier\n",
    "clf = RandomForestClassifier(n_estimators=20)\n",
    "\n",
    "# specify parameters and distributions to sample from\n",
    "param_dist = {\"max_depth\": [3, None],\n",
    "              \"max_features\": sp_randint(1, 11),\n",
    "              \"min_samples_split\": sp_randint(2, 11),\n",
    "              \"min_samples_leaf\": sp_randint(1, 11),\n",
    "              \"bootstrap\": [True, False],\n",
    "              \"criterion\": [\"gini\", \"entropy\"]}\n",
    "\n",
    "# run randomized search\n",
    "n_iter_search = 300\n",
    "random_search = RandomizedSearchCV(clf, \n",
    "                                   param_distributions=param_dist,\n",
    "                                   n_iter=n_iter_search, \n",
    "                                   cv=10, \n",
    "                                   scoring='roc_auc')\n",
    "random_search.fit(x_train_pca, y_train)\n",
    "print('Best 10-fold CV AUC score:', random_search.best_score_)"
   ]
  },
  {
   "cell_type": "markdown",
   "metadata": {},
   "source": [
    "The AUC is 0.70, similar to variance based feature selection."
   ]
  },
  {
   "cell_type": "markdown",
   "metadata": {},
   "source": [
    "## Do feature selection separately for each fold?"
   ]
  },
  {
   "cell_type": "markdown",
   "metadata": {},
   "source": [
    "It is wise to do the feature selection independently from test set. Do it on train set only and then apply the same procedure on the test set. Does this completely solve our problem?"
   ]
  },
  {
   "cell_type": "code",
   "execution_count": 25,
   "metadata": {},
   "outputs": [
    {
     "name": "stdout",
     "output_type": "stream",
     "text": [
      "Best 10-fold CV AUC score: 0.608\n"
     ]
    }
   ],
   "source": [
    "from scipy.stats import randint as sp_randint\n",
    "from sklearn.model_selection import RandomizedSearchCV\n",
    "from sklearn.ensemble import RandomForestClassifier\n",
    "from sklearn.pipeline import Pipeline\n",
    "from sklearn.feature_selection import f_classif, SelectPercentile\n",
    "\n",
    "clf = Pipeline([\n",
    "    ('feature_selection', SelectPercentile(f_classif, percentile=1)),\n",
    "    ('classification', RandomForestClassifier(n_estimators=20))\n",
    "])\n",
    "\n",
    "# specify parameters and distributions to sample from\n",
    "param_dist = {\"classification__max_depth\": [3, None],\n",
    "              \"classification__max_features\": sp_randint(1, 11),\n",
    "              \"classification__min_samples_split\": sp_randint(2, 11),\n",
    "              \"classification__min_samples_leaf\": sp_randint(1, 11),\n",
    "              \"classification__bootstrap\": [True, False],\n",
    "              \"classification__criterion\": [\"gini\", \"entropy\"]}\n",
    "\n",
    "# run randomized search\n",
    "n_iter_search = 100\n",
    "random_search = RandomizedSearchCV(clf, \n",
    "                                   param_distributions=param_dist,\n",
    "                                   n_iter=n_iter_search, \n",
    "                                   cv=10, \n",
    "                                   scoring='roc_auc')\n",
    "random_search.fit(x_train, y_train)\n",
    "print('Best 10-fold CV AUC score:', random_search.best_score_)"
   ]
  },
  {
   "cell_type": "markdown",
   "metadata": {},
   "source": [
    "The AUC score of 0.61 is certainly much better than 0.99. This indicates the importance of doing feature selection after train/test split."
   ]
  },
  {
   "cell_type": "markdown",
   "metadata": {},
   "source": [
    "## How do we fix this?"
   ]
  },
  {
   "cell_type": "markdown",
   "metadata": {},
   "source": [
    "### Option 1: use an independent test set"
   ]
  },
  {
   "cell_type": "code",
   "execution_count": 33,
   "metadata": {},
   "outputs": [
    {
     "name": "stdout",
     "output_type": "stream",
     "text": [
      "Best 10-fold CV AUC score: 0.6680000000000001\n"
     ]
    }
   ],
   "source": [
    "from scipy.stats import randint as sp_randint\n",
    "from sklearn.model_selection import RandomizedSearchCV\n",
    "from sklearn.ensemble import RandomForestClassifier\n",
    "from sklearn.pipeline import Pipeline\n",
    "from sklearn.feature_selection import f_classif, SelectPercentile\n",
    "\n",
    "clf = Pipeline([\n",
    "    ('feature_selection', SelectPercentile(f_classif, percentile=1)),\n",
    "    ('classification', RandomForestClassifier(n_estimators=20))\n",
    "])\n",
    "\n",
    "# specify parameters and distributions to sample from\n",
    "param_dist = {\"classification__max_depth\": [3, None],\n",
    "              \"classification__max_features\": sp_randint(1, 11),\n",
    "              \"classification__min_samples_split\": sp_randint(2, 11),\n",
    "              \"classification__min_samples_leaf\": sp_randint(1, 11),\n",
    "              \"classification__bootstrap\": [True, False],\n",
    "              \"classification__criterion\": [\"gini\", \"entropy\"]}\n",
    "\n",
    "# run randomized search\n",
    "n_iter_search = 100\n",
    "rs_indep_test = RandomizedSearchCV(clf, \n",
    "                                   param_distributions=param_dist,\n",
    "                                   n_iter=n_iter_search, \n",
    "                                   cv=10, \n",
    "                                   scoring='roc_auc')\n",
    "rs_indep_test.fit(x_train, y_train)\n",
    "print('Best 10-fold CV AUC score:', rs_indep_test.best_score_)"
   ]
  },
  {
   "cell_type": "code",
   "execution_count": 36,
   "metadata": {},
   "outputs": [
    {
     "name": "stdout",
     "output_type": "stream",
     "text": [
      "Test AUC score: 0.49960000000000004\n"
     ]
    }
   ],
   "source": [
    "x_test = np.random.randn(100, 20000)\n",
    "y_test = np.concatenate([np.repeat([0], 50), np.repeat([1], 50)])\n",
    "test_score = rs_indep_test.score(x_test, y_test)\n",
    "print('Test AUC score:', test_score)"
   ]
  },
  {
   "cell_type": "markdown",
   "metadata": {},
   "source": [
    "On an independent test set, the AUC score reduces to less than 0.5"
   ]
  },
  {
   "cell_type": "markdown",
   "metadata": {},
   "source": [
    "### Option 2: use cross-validation in a nested fashion"
   ]
  },
  {
   "cell_type": "markdown",
   "metadata": {},
   "source": [
    "It's not uncommon that we don't have an independent test set, especially in biomedical sciences. We want to make use of every bit of our dataset for both training and testing. To deal with this, we can use nested cross-validation.\n",
    "\n",
    "In nested CV, we embed CVs within a CV. For each fold of the outer CV, we perform a K-fold CV on the train set and then evaluate on the test set. This way, we can make use of all the samples of our dataset for testing and make sure they are all genuine test samples."
   ]
  },
  {
   "cell_type": "markdown",
   "metadata": {},
   "source": [
    "To save time, I use 3-fold CV for both inner and outer CVs."
   ]
  },
  {
   "cell_type": "code",
   "execution_count": 32,
   "metadata": {},
   "outputs": [
    {
     "name": "stdout",
     "output_type": "stream",
     "text": [
      "Nested 3-fold CV AUC score: [0.49134948 0.5017301  0.484375  ]\n"
     ]
    }
   ],
   "source": [
    "from scipy.stats import randint as sp_randint\n",
    "from sklearn.model_selection import RandomizedSearchCV\n",
    "from sklearn.ensemble import RandomForestClassifier\n",
    "from sklearn.pipeline import Pipeline\n",
    "from sklearn.feature_selection import f_classif, SelectPercentile\n",
    "from sklearn.model_selection import cross_val_score\n",
    "\n",
    "clf = Pipeline([\n",
    "    ('feature_selection', SelectPercentile(f_classif, percentile=1)),\n",
    "    ('classification', RandomForestClassifier(n_estimators=20))\n",
    "])\n",
    "\n",
    "# specify parameters and distributions to sample from\n",
    "param_dist = {\"classification__max_depth\": [3, None],\n",
    "              \"classification__max_features\": sp_randint(1, 11),\n",
    "              \"classification__min_samples_split\": sp_randint(2, 11),\n",
    "              \"classification__min_samples_leaf\": sp_randint(1, 11),\n",
    "              \"classification__bootstrap\": [True, False],\n",
    "              \"classification__criterion\": [\"gini\", \"entropy\"]}\n",
    "\n",
    "# run randomized search\n",
    "n_iter_search = 100\n",
    "random_search = RandomizedSearchCV(clf, \n",
    "                                   param_distributions=param_dist,\n",
    "                                   n_iter=n_iter_search, \n",
    "                                   cv=3, \n",
    "                                   scoring='roc_auc')\n",
    "nested_cv_score = cross_val_score(random_search, x_train, y_train, cv=3)\n",
    "print('Nested 3-fold CV AUC score:', nested_cv_score)"
   ]
  },
  {
   "cell_type": "markdown",
   "metadata": {},
   "source": [
    "All 3 folds show test AUC scores close to 0.5."
   ]
  }
 ],
 "metadata": {
  "kernelspec": {
   "display_name": "Python 3",
   "language": "python",
   "name": "python3"
  },
  "language_info": {
   "codemirror_mode": {
    "name": "ipython",
    "version": 3
   },
   "file_extension": ".py",
   "mimetype": "text/x-python",
   "name": "python",
   "nbconvert_exporter": "python",
   "pygments_lexer": "ipython3",
   "version": "3.6.3"
  }
 },
 "nbformat": 4,
 "nbformat_minor": 2
}
